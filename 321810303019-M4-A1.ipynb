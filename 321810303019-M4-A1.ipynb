{
 "cells": [
  {
   "cell_type": "code",
   "execution_count": 16,
   "metadata": {},
   "outputs": [
    {
     "name": "stdout",
     "output_type": "stream",
     "text": [
      "42\n"
     ]
    }
   ],
   "source": [
    "def listsum(a):\n",
    "    sum=0\n",
    "    for i in range(0,len(a)):\n",
    "        sum=sum+a[i]\n",
    "    print(sum)\n",
    "listsum([10,20,12])"
   ]
  },
  {
   "cell_type": "code",
   "execution_count": 18,
   "metadata": {},
   "outputs": [
    {
     "name": "stdout",
     "output_type": "stream",
     "text": [
      "2400\n"
     ]
    }
   ],
   "source": [
    "def listsum(a):\n",
    "    sum=1\n",
    "    for i in range(0,len(a)):\n",
    "        sum=sum*a[i]\n",
    "    print(sum)\n",
    "listsum([10,20,12])"
   ]
  },
  {
   "cell_type": "code",
   "execution_count": 26,
   "metadata": {},
   "outputs": [
    {
     "name": "stdout",
     "output_type": "stream",
     "text": [
      "small: 1 \n",
      " large: 9\n"
     ]
    }
   ],
   "source": [
    "def la_and_sm(a):\n",
    "    l=a[0]\n",
    "    s=a[0]\n",
    "    for i in range(0,len(a)):\n",
    "        for j in range(i+1,len(a)):\n",
    "            if s>a[j]:\n",
    "                s=a[j]\n",
    "            if l<a[j]:\n",
    "                l=a[j]\n",
    "    print(\"small:\",s,\"\\n\",\"large:\",l)\n",
    "la_and_sm([7,3,9,5,1,6,4])"
   ]
  },
  {
   "cell_type": "code",
   "execution_count": 32,
   "metadata": {},
   "outputs": [
    {
     "name": "stdout",
     "output_type": "stream",
     "text": [
      "[1, 2, 3, 5]\n"
     ]
    }
   ],
   "source": [
    "def dup(a):\n",
    "    b=[]\n",
    "    for i in a:\n",
    "        if i not in b:\n",
    "            b.append(i)\n",
    "    print(b)\n",
    "dup([1,2,3,3,2,2,1,5])"
   ]
  },
  {
   "cell_type": "code",
   "execution_count": 34,
   "metadata": {},
   "outputs": [
    {
     "name": "stdout",
     "output_type": "stream",
     "text": [
      "[10, 22, 44, 23, 4]\n",
      "[10, 22, 44, 23, 4]\n"
     ]
    }
   ],
   "source": [
    "original_list = [10, 22, 44, 23, 4]\n",
    "new_list = list(original_list)\n",
    "print(original_list)\n",
    "print(new_list)"
   ]
  },
  {
   "cell_type": "code",
   "execution_count": 36,
   "metadata": {},
   "outputs": [
    {
     "name": "stdout",
     "output_type": "stream",
     "text": [
      "['red', 'green', 'white', 'black', 'pink', 'yellow']\n",
      "['green', 'white', 'black']\n"
     ]
    }
   ],
   "source": [
    "list=['red','green','white','black','pink','yellow']\n",
    "print(list)\n",
    "print(list[1:4])"
   ]
  },
  {
   "cell_type": "code",
   "execution_count": 38,
   "metadata": {},
   "outputs": [
    {
     "name": "stdout",
     "output_type": "stream",
     "text": [
      "[5, 3, 2, 4, 1]\n"
     ]
    }
   ],
   "source": [
    "from random import shuffle\n",
    "list=[1,2 ,3,4,5]\n",
    "shuffle(list)\n",
    "print(list)"
   ]
  },
  {
   "cell_type": "code",
   "execution_count": 46,
   "metadata": {},
   "outputs": [
    {
     "name": "stdout",
     "output_type": "stream",
     "text": [
      "{4, 6}\n"
     ]
    }
   ],
   "source": [
    "r1=[1,2,3,4,6]\n",
    "r2=[1,1,2,3,3]\n",
    "diff=(set(r1)-set(r2))\n",
    "print((diff))"
   ]
  }
 ],
 "metadata": {
  "kernelspec": {
   "display_name": "Python 3",
   "language": "python",
   "name": "python3"
  },
  "language_info": {
   "codemirror_mode": {
    "name": "ipython",
    "version": 3
   },
   "file_extension": ".py",
   "mimetype": "text/x-python",
   "name": "python",
   "nbconvert_exporter": "python",
   "pygments_lexer": "ipython3",
   "version": "3.8.3"
  }
 },
 "nbformat": 4,
 "nbformat_minor": 4
}
