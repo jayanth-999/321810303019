{
 "cells": [
  {
   "cell_type": "markdown",
   "metadata": {},
   "source": [
    "# what is dictionary in python\n",
    "#A dictionary is a collection which is unordered, changeable and indexed.\n",
    "#In Python dictionaries are written with curly brackets, and they have keys and values."
   ]
  },
  {
   "cell_type": "code",
   "execution_count": 5,
   "metadata": {},
   "outputs": [
    {
     "name": "stdout",
     "output_type": "stream",
     "text": [
      "{'hi': 'jay', 'hello': 'var', 'hay': 'bro'}\n",
      "jay\n"
     ]
    }
   ],
   "source": [
    "dic={\"hi\":\"jay\",\"hello\":\"var\",\"hay\":\"bro\"}\n",
    "print(dic)\n",
    "print(dic[\"hi\"])"
   ]
  },
  {
   "cell_type": "code",
   "execution_count": 7,
   "metadata": {},
   "outputs": [
    {
     "name": "stdout",
     "output_type": "stream",
     "text": [
      "16\n"
     ]
    }
   ],
   "source": [
    "def sum_list(a):\n",
    "    sum=0\n",
    "    for i in range(0,len(a)):\n",
    "        sum=sum+a[i]\n",
    "    print(sum)\n",
    "sum_list([1,3,2,4,6])"
   ]
  },
  {
   "cell_type": "code",
   "execution_count": 9,
   "metadata": {},
   "outputs": [
    {
     "name": "stdout",
     "output_type": "stream",
     "text": [
      "[{}, {}, {}, {}, {}]\n"
     ]
    }
   ],
   "source": [
    "n = 5\n",
    "l = [{} for _ in range(n)]\n",
    "print(l)\n"
   ]
  },
  {
   "cell_type": "code",
   "execution_count": 13,
   "metadata": {},
   "outputs": [
    {
     "name": "stdout",
     "output_type": "stream",
     "text": [
      "maths\n"
     ]
    }
   ],
   "source": [
    "dic={\"maths\":100,\"pysics\":80,\"chemistry\":78}\n",
    "print(list(dic)[0])"
   ]
  },
  {
   "cell_type": "code",
   "execution_count": 16,
   "metadata": {},
   "outputs": [
    {
     "name": "stdout",
     "output_type": "stream",
     "text": [
      "maths  :  100\n",
      "pysics  :  80\n",
      "chemistry  :  78\n"
     ]
    }
   ],
   "source": [
    "dic={\"maths\":100,\"pysics\":80,\"chemistry\":78}\n",
    "for key,value in dic.items():\n",
    "     print(key,\" : \", dic[key])"
   ]
  },
  {
   "cell_type": "code",
   "execution_count": 18,
   "metadata": {},
   "outputs": [
    {
     "name": "stdout",
     "output_type": "stream",
     "text": [
      "258\n"
     ]
    }
   ],
   "source": [
    "dic={\"maths\":100,\"pysics\":80,\"chemistry\":78}\n",
    "print(sum(dic.values()))"
   ]
  },
  {
   "cell_type": "code",
   "execution_count": 21,
   "metadata": {},
   "outputs": [
    {
     "name": "stdout",
     "output_type": "stream",
     "text": [
      "{1: 10, 2: 20, 3: 30, 4: 40, 5: 50, 6: 60}\n"
     ]
    }
   ],
   "source": [
    "dic1={1:10, 2:20} \n",
    "dic2={3:30, 4:40} \n",
    "dic3={5:50,6:60} \n",
    "dic4={}\n",
    "for i in (dic1,dic2,dic3):\n",
    "    dic4.update(i)\n",
    "print(dic4)"
   ]
  }
 ],
 "metadata": {
  "kernelspec": {
   "display_name": "Python 3",
   "language": "python",
   "name": "python3"
  },
  "language_info": {
   "codemirror_mode": {
    "name": "ipython",
    "version": 3
   },
   "file_extension": ".py",
   "mimetype": "text/x-python",
   "name": "python",
   "nbconvert_exporter": "python",
   "pygments_lexer": "ipython3",
   "version": "3.8.3"
  }
 },
 "nbformat": 4,
 "nbformat_minor": 4
}
