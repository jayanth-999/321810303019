{
 "cells": [
  {
   "cell_type": "code",
   "execution_count": 6,
   "metadata": {},
   "outputs": [],
   "source": [
    "def fib(n):\n",
    "    p=0\n",
    "    q=1\n",
    "    i=0\n",
    "    while i!=n:\n",
    "        print(p,\"\\t\")\n",
    "        next=p+q\n",
    "        p=q\n",
    "        q=next\n",
    "        i=i+1"
   ]
  },
  {
   "cell_type": "code",
   "execution_count": 9,
   "metadata": {},
   "outputs": [
    {
     "name": "stdout",
     "output_type": "stream",
     "text": [
      "0 \t\n",
      "1 \t\n",
      "1 \t\n",
      "2 \t\n",
      "3 \t\n",
      "5 \t\n"
     ]
    }
   ],
   "source": [
    "fib(6)"
   ]
  },
  {
   "cell_type": "code",
   "execution_count": 13,
   "metadata": {},
   "outputs": [],
   "source": [
    "def table(k):\n",
    "    i=1\n",
    "    while i<=10:\n",
    "        print(k,\"x\",i,\"=\",k*i)\n",
    "        i=i+1"
   ]
  },
  {
   "cell_type": "code",
   "execution_count": 15,
   "metadata": {},
   "outputs": [
    {
     "name": "stdout",
     "output_type": "stream",
     "text": [
      "5 x 1 = 5\n",
      "5 x 2 = 10\n",
      "5 x 3 = 15\n",
      "5 x 4 = 20\n",
      "5 x 5 = 25\n",
      "5 x 6 = 30\n",
      "5 x 7 = 35\n",
      "5 x 8 = 40\n",
      "5 x 9 = 45\n",
      "5 x 10 = 50\n"
     ]
    }
   ],
   "source": [
    "table(5)"
   ]
  },
  {
   "cell_type": "code",
   "execution_count": 33,
   "metadata": {},
   "outputs": [],
   "source": [
    "def gcd(a,b):\n",
    "    i=1\n",
    "    f=0\n",
    "    while i<=a and i<=b:\n",
    "        if a%i==0 and b%i==0:\n",
    "            f=i\n",
    "        i=i+1\n",
    "    print(\"GCD is \",f)"
   ]
  },
  {
   "cell_type": "code",
   "execution_count": 35,
   "metadata": {},
   "outputs": [
    {
     "name": "stdout",
     "output_type": "stream",
     "text": [
      "GCD is  3\n"
     ]
    }
   ],
   "source": [
    "gcd(3,9)"
   ]
  },
  {
   "cell_type": "code",
   "execution_count": 46,
   "metadata": {},
   "outputs": [
    {
     "name": "stdout",
     "output_type": "stream",
     "text": [
      "give a series of num2 6 5 1 4 3 1 5\n",
      "odd count is :  5 \n",
      " even count is :  3\n"
     ]
    }
   ],
   "source": [
    "n=input(\"give a series of num\")\n",
    "n=n.split()\n",
    "i=0\n",
    "even_count=0\n",
    "odd_count=0\n",
    "for i in n:\n",
    "    if(int(i)%2==0):\n",
    "        even_count=even_count+1\n",
    "    else:\n",
    "        odd_count=odd_count+1\n",
    "print(\"odd count is : \",odd_count,\"\\n\",\"even count is : \",even_count)"
   ]
  },
  {
   "cell_type": "code",
   "execution_count": 48,
   "metadata": {},
   "outputs": [
    {
     "name": "stdout",
     "output_type": "stream",
     "text": [
      "0  \n",
      "1  \n",
      "2  \n",
      "4  \n",
      "5  \n"
     ]
    }
   ],
   "source": [
    "for i in range(0,6):\n",
    "    if i!=3 and i!=6:\n",
    "        print(i,\" \")"
   ]
  }
 ],
 "metadata": {
  "kernelspec": {
   "display_name": "Python 3",
   "language": "python",
   "name": "python3"
  },
  "language_info": {
   "codemirror_mode": {
    "name": "ipython",
    "version": 3
   },
   "file_extension": ".py",
   "mimetype": "text/x-python",
   "name": "python",
   "nbconvert_exporter": "python",
   "pygments_lexer": "ipython3",
   "version": "3.8.3"
  }
 },
 "nbformat": 4,
 "nbformat_minor": 4
}
