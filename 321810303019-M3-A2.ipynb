{
 "cells": [
  {
   "cell_type": "code",
   "execution_count": 2,
   "metadata": {},
   "outputs": [],
   "source": [
    "def fib(n):\n",
    "    p=0\n",
    "    q=1\n",
    "    i=0\n",
    "    while i!=n:\n",
    "        print(p,\"\\t\")\n",
    "        next=p+q\n",
    "        p=q\n",
    "        q=next\n",
    "        i=i+1"
   ]
  },
  {
   "cell_type": "code",
   "execution_count": 4,
   "metadata": {},
   "outputs": [
    {
     "name": "stdout",
     "output_type": "stream",
     "text": [
      "0 \t\n",
      "1 \t\n",
      "1 \t\n",
      "2 \t\n",
      "3 \t\n",
      "5 \t\n"
     ]
    }
   ],
   "source": [
    "fib(6)"
   ]
  },
  {
   "cell_type": "code",
   "execution_count": 7,
   "metadata": {},
   "outputs": [
    {
     "name": "stdout",
     "output_type": "stream",
     "text": [
      "5\n",
      "15\n",
      "20\n",
      "4\n",
      "3\n",
      "5\n",
      "5\n",
      "8\n",
      "8\n",
      "5\n",
      "7.8\n"
     ]
    }
   ],
   "source": [
    "sum=0\n",
    "for i in range(0,10):\n",
    "    a=int(input())\n",
    "    sum=sum+a;\n",
    "avg=sum/10\n",
    "print(avg)"
   ]
  },
  {
   "cell_type": "code",
   "execution_count": 15,
   "metadata": {},
   "outputs": [
    {
     "name": "stdout",
     "output_type": "stream",
     "text": [
      "give a num6\n",
      "*\n",
      "**\n",
      "***\n",
      "****\n",
      "*****\n",
      "******\n"
     ]
    }
   ],
   "source": [
    "x=int(input(\"give a num\"))\n",
    "for i in range(0,x):\n",
    "    for j in range(0,i+1):\n",
    "        print(\"*\",end=\"\")\n",
    "    print(\"\\r\")\n"
   ]
  },
  {
   "cell_type": "code",
   "execution_count": 22,
   "metadata": {},
   "outputs": [
    {
     "name": "stdout",
     "output_type": "stream",
     "text": [
      "length of string is 12\n"
     ]
    }
   ],
   "source": [
    "a='refrigerator'\n",
    "cout=0\n",
    "for i in a:\n",
    "    cout=cout+1\n",
    "print(\"length of string is\",cout)"
   ]
  },
  {
   "cell_type": "code",
   "execution_count": 30,
   "metadata": {},
   "outputs": [
    {
     "name": "stdout",
     "output_type": "stream",
     "text": [
      "fijogvjhg\n",
      "9\n"
     ]
    }
   ],
   "source": [
    "a=input()\n",
    "cout=0\n",
    "b=a.strip()\n",
    "for i in b:\n",
    "    cout=cout+1\n",
    "print(cout)"
   ]
  },
  {
   "cell_type": "code",
   "execution_count": 32,
   "metadata": {},
   "outputs": [
    {
     "name": "stdout",
     "output_type": "stream",
     "text": [
      "Jayanth Nuggu\n",
      "JAYANTH NUGGU\n",
      "jayanth nuggu\n"
     ]
    }
   ],
   "source": [
    "a=input()\n",
    "print(a.upper())\n",
    "print(a.lower())"
   ]
  },
  {
   "cell_type": "code",
   "execution_count": 33,
   "metadata": {},
   "outputs": [
    {
     "name": "stdout",
     "output_type": "stream",
     "text": [
      "give ur string hi jay hi var\n",
      "give your sub stringhi\n",
      "2\n"
     ]
    }
   ],
   "source": [
    "str=input(\"give ur string \")\n",
    "substr=input(\"give your sub string\")\n",
    "print(str.count(substr))"
   ]
  }
 ],
 "metadata": {
  "kernelspec": {
   "display_name": "Python 3",
   "language": "python",
   "name": "python3"
  },
  "language_info": {
   "codemirror_mode": {
    "name": "ipython",
    "version": 3
   },
   "file_extension": ".py",
   "mimetype": "text/x-python",
   "name": "python",
   "nbconvert_exporter": "python",
   "pygments_lexer": "ipython3",
   "version": "3.8.3"
  }
 },
 "nbformat": 4,
 "nbformat_minor": 4
}
