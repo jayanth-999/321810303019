{
 "cells": [
  {
   "cell_type": "code",
   "execution_count": 3,
   "metadata": {},
   "outputs": [
    {
     "name": "stdout",
     "output_type": "stream",
     "text": [
      "give the first stringjaya\n",
      "give second stringvara\n",
      "vaya   jara\n"
     ]
    }
   ],
   "source": [
    "a=input(\"give the first string\")\n",
    "b=input(\"give second string\")\n",
    "x=b[:2]+a[2:]\n",
    "y=a[:2]+b[2:]\n",
    "print(x,\" \",y)"
   ]
  },
  {
   "cell_type": "code",
   "execution_count": 5,
   "metadata": {},
   "outputs": [
    {
     "name": "stdout",
     "output_type": "stream",
     "text": [
      "jay anth\n"
     ]
    }
   ],
   "source": [
    "a=\"jay\\n\"\n",
    "b=\"anth\"\n",
    "a=a.rstrip()\n",
    "print(a,b)"
   ]
  },
  {
   "cell_type": "code",
   "execution_count": 14,
   "metadata": {},
   "outputs": [
    {
     "name": "stdout",
     "output_type": "stream",
     "text": [
      "give the stringkayuga\n",
      "the position of element to be deleted3\n",
      "kayga\n"
     ]
    }
   ],
   "source": [
    "str=input(\"give the string\")\n",
    "i=int(input(\"the position of element to be deleted\"))\n",
    "a=str[:i]\n",
    "b=str[i+1:]\n",
    "print(a+b)"
   ]
  },
  {
   "cell_type": "code",
   "execution_count": 19,
   "metadata": {},
   "outputs": [
    {
     "name": "stdout",
     "output_type": "stream",
     "text": [
      "give a stringhi hello\n",
      "h\n",
      "i\n",
      " \n",
      "h\n",
      "e\n",
      "l\n"
     ]
    }
   ],
   "source": [
    "a=input(\"give a string\")\n",
    "for i in range(len(str)):\n",
    "    print(a[i])"
   ]
  }
 ],
 "metadata": {
  "kernelspec": {
   "display_name": "Python 3",
   "language": "python",
   "name": "python3"
  },
  "language_info": {
   "codemirror_mode": {
    "name": "ipython",
    "version": 3
   },
   "file_extension": ".py",
   "mimetype": "text/x-python",
   "name": "python",
   "nbconvert_exporter": "python",
   "pygments_lexer": "ipython3",
   "version": "3.8.3"
  }
 },
 "nbformat": 4,
 "nbformat_minor": 4
}
