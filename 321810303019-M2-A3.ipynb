{
 "cells": [
  {
   "cell_type": "code",
   "execution_count": 2,
   "metadata": {},
   "outputs": [
    {
     "name": "stdout",
     "output_type": "stream",
     "text": [
      "give the radious of the circle4\n",
      "50.26548245743669\n"
     ]
    }
   ],
   "source": [
    "import math\n",
    "r=int(input(\"give the radious of the circle\"))\n",
    "a=math.pi*r**2\n",
    "print(a)"
   ]
  },
  {
   "cell_type": "code",
   "execution_count": 5,
   "metadata": {},
   "outputs": [
    {
     "name": "stdout",
     "output_type": "stream",
     "text": [
      "number of sides of a polygon5\n",
      "side length6\n",
      "5.449068960040206\n"
     ]
    }
   ],
   "source": [
    " import math\n",
    "n=int(input(\"number of sides of a polygon\"))\n",
    "s=int(input(\"side length\"))\n",
    "a=n*s/4*math.tan(math.pi/n)\n",
    "print(a)"
   ]
  },
  {
   "cell_type": "code",
   "execution_count": 8,
   "metadata": {},
   "outputs": [
    {
     "name": "stdout",
     "output_type": "stream",
     "text": [
      "angle of the sector5\n",
      "radius of circle1\n",
      "0.04363323129985824\n"
     ]
    }
   ],
   "source": [
    "import math\n",
    "x=float(input(\"angle of the sector\"))\n",
    "r=float(input(\"radius of circle\"))\n",
    "a=x/360*math.pi*r*r\n",
    "print(a)"
   ]
  },
  {
   "cell_type": "code",
   "execution_count": 14,
   "metadata": {},
   "outputs": [
    {
     "name": "stdout",
     "output_type": "stream",
     "text": [
      "None\n"
     ]
    }
   ],
   "source": [
    "import random\n",
    "l1=[100,1,2,3,30,40,\"hai\",\"hello\"]\n",
    "print(random.shuffle(l1))"
   ]
  },
  {
   "cell_type": "code",
   "execution_count": 26,
   "metadata": {},
   "outputs": [
    {
     "name": "stdout",
     "output_type": "stream",
     "text": [
      "851\n"
     ]
    }
   ],
   "source": [
    "import random\n",
    "print(random.randrange(1,1000,50))"
   ]
  },
  {
   "cell_type": "code",
   "execution_count": 40,
   "metadata": {},
   "outputs": [
    {
     "name": "stdout",
     "output_type": "stream",
     "text": [
      "0.8660254037844386\n",
      "0.9984971498638638\n",
      "1.633123935319537e+16\n",
      "59.99999999999999\n",
      "390625\n",
      "20.0\n",
      "10.0\n",
      "3.0102999566398116\n"
     ]
    }
   ],
   "source": [
    "import math\n",
    "print(math.sin(math.radians(60)))\n",
    "print(math.cos(math.radians(math.pi)))\n",
    "print(math.tan(math.radians(90)))\n",
    "print(math.degrees(math.asin(0.8660254037844386)))\n",
    "print(5**8)\n",
    "print(math.sqrt(400))\n",
    "print(math.log(1024,2))\n",
    "print(math.log(1024,10))"
   ]
  }
 ],
 "metadata": {
  "kernelspec": {
   "display_name": "Python 3",
   "language": "python",
   "name": "python3"
  },
  "language_info": {
   "codemirror_mode": {
    "name": "ipython",
    "version": 3
   },
   "file_extension": ".py",
   "mimetype": "text/x-python",
   "name": "python",
   "nbconvert_exporter": "python",
   "pygments_lexer": "ipython3",
   "version": "3.8.3"
  }
 },
 "nbformat": 4,
 "nbformat_minor": 4
}
